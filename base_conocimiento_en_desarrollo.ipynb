{
  "nbformat": 4,
  "nbformat_minor": 0,
  "metadata": {
    "colab": {
      "provenance": []
    },
    "kernelspec": {
      "name": "python3",
      "display_name": "Python 3"
    },
    "language_info": {
      "name": "python"
    }
  },
  "cells": [
    {
      "cell_type": "markdown",
      "source": [
        "# EN ETAPA DE DESARROLLO: Base de Conocimiento Estructurada"
      ],
      "metadata": {
        "id": "y955D7EEDZnQ"
      }
    },
    {
      "cell_type": "markdown",
      "source": [
        "## Taxonomía de Pilares de Ciencia Abierta\n",
        "\n",
        "Para la definición de la taxonomÍa utilizada en el entrenamiento se revisaron los siguientes documentos, recomendaciones de CA de la UNESCO (2021) y  Taxonomia da Ciência Aberta: revisada e ampliada, además del material del su curso de OpenScience 101 desarrollado por por Nasa. En estos se identificaron distintas taxonomías como Pontika et al. (2015), Baumgartner (2019), Silveira et al. (2021), y una última ampliada. Finalmente, se decidió establecer una clasificación basada en las recomendaciones de la Unesco para la ciencia abierta y en los módulos definidos en el curso de OpenScience 101. La misma consiste en: acceso_abierto.datos abiertos, codigo_abierto, evaluacion_abierta y ciencia_ciudadana.\n",
        "\n",
        "Fuente: Artículo: SciELO Brasil - Taxonomia da Ciência Aberta: revisada e ampliada Taxonomia da Ciência Aberta: revisada e ampliada https://share.google/C0r8ikdeLFwAGjR2u.\n"
      ],
      "metadata": {
        "id": "iT4leisaD97c"
      }
    },
    {
      "cell_type": "code",
      "execution_count": 1,
      "metadata": {
        "id": "fKjip-72DUHi"
      },
      "outputs": [],
      "source": [
        "PILARES_CA = {\n",
        "    \"acceso_abierto\": {\n",
        "        \"subcategorias\": [\"publicaciones\", \"repositorios\", \"preprints\"],\n",
        "        \"entidades\": [\"revistas\", \"editoriales\", \"licencias\"]\n",
        "    },\n",
        "    \"datos_abiertos\": {\n",
        "        \"subcategorias\": [\"FAIR\", \"repositorios\", \"metadatos\"],\n",
        "        \"entidades\": [\"formatos\", \"identificadores\", \"planes_gestion\"]\n",
        "    },\n",
        "    \"codigo_abierto\": {\n",
        "        \"subcategorias\": [\"software\", \"notebooks\", \"reproducibilidad\"],\n",
        "        \"entidades\": [\"licencias\", \"plataformas\", \"versionado\", \"lenguaje\"]\n",
        "    },\n",
        "    \"evaluacion_abierta\": {\n",
        "        \"subcategorias\": [\"peer_review\", \"metricas\", \"transparencia\"],\n",
        "        \"entidades\": [\"altmetrics\", \"sistemas_evaluacion\"]\n",
        "    },\n",
        "    \"ciencia_ciudadana\": {\n",
        "        \"subcategorias\": [\"participacion\", \"metodologias\", \"plataformas\"],\n",
        "        \"entidades\": [\"proyectos\", \"herramientas\", \"comunidades\"]\n",
        "    }\n",
        "}"
      ]
    },
    {
      "cell_type": "markdown",
      "source": [
        "## Estructura de Pares Pregunta-Respuesta"
      ],
      "metadata": {
        "id": "GpagrBWyELdQ"
      }
    },
    {
      "cell_type": "code",
      "source": [
        "class QAPair:\n",
        "    def __init__(self):\n",
        "        self.pregunta = \"\"\n",
        "        self.respuesta = \"\"\n",
        "        self.pilar = \"\"\n",
        "        self.nivel_complejidad = \"\"  # básico, intermedio, avanzado\n",
        "        self.audiencia = \"\"  # maestría, doctorado, investigador\n",
        "        self.contexto_regional = \"\"  # América Latina específico\n",
        "        self.fuentes = []\n",
        "        self.entidades_relacionadas = []"
      ],
      "metadata": {
        "id": "X4L3LjtjEMpR"
      },
      "execution_count": 2,
      "outputs": []
    },
    {
      "cell_type": "markdown",
      "source": [
        "## Ejemplo de Par pregunta-respuesta.\n",
        "\n",
        "  **\"pregunta\":** \"¿Cuáles son las principales barreras identificadas para la implementación del acceso abierto a las publicaciones científicas en América Latina según el estudio CILAC 2021?\",\n",
        "    \n",
        "  **\"respuesta\":** \"Según el documento CILAC 2021, las principales barreras incluyen: 1) La estructura oligopólica del mercado editorial científico que genera barreras económicas y técnicas; 2) Los sistemas de evaluación académica basados en el factor de impacto que privilegian publicaciones en revistas comerciales de alto costo; 3) La falta de transparencia en los costos de suscripciones y APCs que impide una negociación efectiva; 4) La resistencia cultural de los investigadores acostumbrados al modelo tradicional; y 5) La fragmentación de políticas nacionales sin suficiente coordinación regional. El estudio destaca que América Latina gasta aproximadamente 200 millones de dólares anuales en suscripciones, recursos que podrían redirigirse hacia modelos de publicación abierta más sostenibles.\",\n",
        "      \n",
        "  **\"pilar\":** \"acceso_abierto\",\n",
        "\n",
        "  **\"nivel_complejidad\":** \"avanzado\",\n",
        "\n",
        "  **\"audiencia\": \"**investigador\",\n",
        "\n",
        "  **\"contexto_regional\":** \"Específico de América Latina - análisis de barreras estructurales y económicas en la región\",\n",
        "\n",
        " **\"fuentes\":** [\"CILAC 2021 - Ciencia Abierta en América Latina\", \"La Referencia - Primera Encuesta Regional sobre Negociación y Contratación\"],\n",
        "  \"entidades_relacionadas\": [\"revistas comerciales\", \"factor de impacto\",\"APCs\", \"SciELO\", \"La Referencia\"]"
      ],
      "metadata": {
        "id": "xicTcdPHK-hJ"
      }
    }
  ]
}